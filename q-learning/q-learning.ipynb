{
 "cells": [
  {
   "cell_type": "markdown",
   "id": "9cad1989-aea3-4ab8-b9c1-fa512859452e",
   "metadata": {},
   "source": [
    "## Bibliotecas"
   ]
  },
  {
   "cell_type": "code",
   "execution_count": 1,
   "id": "a602882a",
   "metadata": {},
   "outputs": [],
   "source": [
    "import numpy as np\n",
    "import seaborn as sns\n",
    "import matplotlib.pyplot as plt\n",
    "\n",
    "from matplotlib import animation\n",
    "from sys import argv"
   ]
  },
  {
   "cell_type": "markdown",
   "id": "cb592139-0b81-4726-a723-f198c87a3fc0",
   "metadata": {},
   "source": [
    "![anim gif](saidateste.gif)"
   ]
  },
  {
   "cell_type": "markdown",
   "id": "e366d70b-a9c0-4c93-8cdb-6600f59f6c2c",
   "metadata": {},
   "source": [
    "## Definições do agente, ambiente, e algorito de aprendizado"
   ]
  },
  {
   "cell_type": "code",
   "execution_count": 2,
   "id": "e520653b",
   "metadata": {},
   "outputs": [],
   "source": [
    "class Agente():\n",
    "    \n",
    "    def __init__(self, N, ambiente_, iteracoes, taxa_aprendizado, fator_desconto, recompensa_, epsilon):\n",
    "    \n",
    "        self.tabela_q = np.zeros((N,N,4))\n",
    "        self.ambiente = ambiente_\n",
    "        self.num_iteracoes = iteracoes\n",
    "        self.taxa = taxa_aprendizado\n",
    "        self.desconto = fator_desconto\n",
    "        self.recompensa = recompensa_\n",
    "        self.eps = epsilon\n",
    "       \n",
    "        posicao_maxima = np.argmax(ambiente_)\n",
    "        linha = posicao_maxima // N\n",
    "        coluna = posicao_maxima % N\n",
    "        \n",
    "        self.posicao_inicial = [linha, coluna]\n",
    "        self.evolucao = []\n",
    "    \n",
    "    def executar_acao(self, acao, posicao):\n",
    "        \n",
    "        linha, coluna = posicao\n",
    "        nova_posicao = posicao.copy()\n",
    "        \n",
    "        if acao == 0: \n",
    "            nova_posicao[0] = linha - 1\n",
    "        elif acao == 1: \n",
    "            nova_posicao[1] = coluna + 1\n",
    "        elif acao == 2:\n",
    "            nova_posicao[0] = linha + 1\n",
    "        elif acao == 3:\n",
    "            nova_posicao[1] = coluna - 1\n",
    "\n",
    "        if nova_posicao[0] < 0 or nova_posicao[0] >= self.ambiente.shape[0] or nova_posicao[1] < 0 or nova_posicao[1] >= self.ambiente.shape[1]:\n",
    "            return posicao, self.recompensa\n",
    "\n",
    "        valor_ambiente = self.ambiente[nova_posicao[0], nova_posicao[1]]\n",
    "\n",
    "        if valor_ambiente == -1:\n",
    "            return posicao, self.recompensa\n",
    "        elif valor_ambiente == 7:\n",
    "            return nova_posicao, 1\n",
    "        elif valor_ambiente == 4:\n",
    "            return nova_posicao, -1\n",
    "        else:\n",
    "            return nova_posicao, self.recompensa\n",
    "\n",
    "    def explorar_ambiente(self):\n",
    "        \n",
    "        s = self.posicao_inicial\n",
    "        \n",
    "        self.evolucao.append(self.ambiente.copy())\n",
    "        ambiente_atual = self.ambiente.copy()\n",
    "        \n",
    "        for i in range(self.num_iteracoes):\n",
    "            \n",
    "            if np.random.random() < self.eps:\n",
    "                acao = np.random.randint(0, 4)\n",
    "                \n",
    "            else:\n",
    "                \n",
    "                acao = np.argmax(self.tabela_q[s[0], s[1]])\n",
    "                escorregou = np.random.random()\n",
    "                \n",
    "                if escorregou < 0.10:\n",
    "                    acao = (acao-1)%4\n",
    "                    \n",
    "                elif escorregou > 0.90:\n",
    "                    acao = (acao+1)%4\n",
    "                    \n",
    "            s_nova, recompensa_estado = self.executar_acao(acao, s)\n",
    "            \n",
    "            self.tabela_q[s[0], s[1], acao] += self.taxa * (recompensa_estado +\n",
    "                                               self.desconto * np.max(self.tabela_q[s_nova[0], s_nova[1]]) -\n",
    "                                               self.tabela_q[s[0], s[1], acao])\n",
    "            \n",
    "            ambiente_atual[s[0], s[1]] = 0\n",
    "            ambiente_atual[s_nova[0], s_nova[1]] = 10.0\n",
    "            self.evolucao.append(ambiente_atual.copy())\n",
    "            \n",
    "            s = s_nova\n",
    "            \n",
    "            if recompensa_estado == -1 or recompensa_estado == 1:\n",
    "                \n",
    "                s = self.posicao_inicial\n",
    "                ambiente_atual = self.ambiente.copy()\n",
    "                self.evolucao.append(ambiente_atual.copy())\n",
    "    \n",
    "        \n",
    "    def gerar_gif(self):\n",
    "\n",
    "        N = self.ambiente.shape[0]\n",
    "        fig = plt.figure()\n",
    "\n",
    "        #NxN é o tamanho da matriz em questão\n",
    "        def init(N):\n",
    "            sns.heatmap(np.zeros((N, N)), square = True, cbar = False)\n",
    "\n",
    "        def animate(i):\n",
    "            data = data_list[i]\n",
    "            sns.heatmap(data, square = True, cbar = False)\n",
    "\n",
    "        #Lista de arrays 10x10\n",
    "        data_list = self.evolucao\n",
    "        #PREENCHA A LISTA\n",
    "\n",
    "        anim = animation.FuncAnimation(fig, animate, init_func = init(N), frames = len(data_list), repeat = False)\n",
    "        pillowwriter = animation.PillowWriter(fps = 7)\n",
    "\n",
    "        # filename é o nome do arquivo a ser salvo. É necessário que a extensão seja \".gif\"\n",
    "        anim.save('saidateste.gif', writer = pillowwriter)\n",
    "        \n",
    "    \n",
    "    def gerar_imagem(self):\n",
    "        \n",
    "        N = self.ambiente.shape[0]\n",
    "        \n",
    "        labels = [[\"n\" if self.ambiente[i, j] == -1 else\n",
    "                   \"n\" if self.ambiente[i, j] == 4 else\n",
    "                   \"n\" if self.ambiente[i, j] == 7 else\n",
    "                   \"c\" if np.argmax(self.tabela_q[i, j]) == 0 else\n",
    "                   \"b\" if np.argmax(self.tabela_q[i, j]) == 2 else\n",
    "                   \"e\" if np.argmax(self.tabela_q[i, j]) == 3 else\n",
    "                   \"d\" if np.argmax(self.tabela_q[i, j]) == 1 else \"\"\n",
    "                   for j in range(N)] for i in range(N)]\n",
    "        \n",
    "        data = [[0 if self.ambiente[i, j] == -1 else\n",
    "                 -1 if self.ambiente[i, j] == 4 else\n",
    "                 1 if self.ambiente[i, j] == 7 else\n",
    "                 np.max(self.tabela_q[i, j]) for j in range(N)] for i in range(N)]\n",
    "\n",
    "        # Gerar o heatmap com as melhores ações\n",
    "        sns.heatmap(data, cbar=True, square=True, annot=labels, fmt='', cmap=\"viridis\")\n",
    "\n",
    "        # Salvar a imagem como um arquivo PNG\n",
    "        plt.savefig(\"saidateste_acoes.png\")"
   ]
  },
  {
   "cell_type": "markdown",
   "id": "8c546a22-a970-400f-8611-5ab78c09ed7a",
   "metadata": {},
   "source": [
    "## Leitura dos parâmetros de execução"
   ]
  },
  {
   "cell_type": "code",
   "execution_count": 3,
   "id": "ae804872",
   "metadata": {},
   "outputs": [],
   "source": [
    "def ler_arquivo(caminho_arquivo):\n",
    "    \n",
    "    arq =  open(caminho_arquivo, 'r')\n",
    "    linhas = arq.readlines()\n",
    "    arq.close()\n",
    "\n",
    "    parametros = linhas[0].split()\n",
    "    \n",
    "    if len(parametros) == 5:\n",
    "        iteracoes, alpha, gamma, recompensa, epsilon = map(float, parametros)\n",
    "        \n",
    "    else:\n",
    "        iteracoes, alpha, gamma, recompensa = map(float, parametros)\n",
    "        epsilon = -1\n",
    "    \n",
    "    N = int(linhas[1])\n",
    "    descricao_ambiente = []\n",
    "    \n",
    "    for linha in linhas[2:]:\n",
    "        dados = list(map(float, linha.split()))\n",
    "        descricao_ambiente.append(dados)\n",
    "\n",
    "    return iteracoes, alpha, gamma, recompensa, epsilon, N, np.array(descricao_ambiente)"
   ]
  },
  {
   "cell_type": "markdown",
   "id": "20c34e4d-5cf9-4299-b21b-4282294ae66b",
   "metadata": {},
   "source": [
    "## Execução"
   ]
  },
  {
   "cell_type": "code",
   "execution_count": 31,
   "id": "5d675d00",
   "metadata": {},
   "outputs": [
    {
     "data": {
      "image/png": "[encoded data removed]",
      "text/plain": [
       "<Figure size 432x288 with 2 Axes>"
      ]
     },
     "metadata": {
      "needs_background": "light"
     },
     "output_type": "display_data"
    },
    {
     "data": {
      "image/png": "[encoded data removed]",
      "text/plain": [
       "<Figure size 432x288 with 1 Axes>"
      ]
     },
     "metadata": {
      "needs_background": "light"
     },
     "output_type": "display_data"
    }
   ],
   "source": [
    "if __name__ == \"__main__\":\n",
    "\n",
    "    caminho = 'input.txt' \n",
    "\n",
    "    iteracoes, taxa_aprendizado, desconto, recompensa, epsilon, N, ambiente = ler_arquivo(caminho)\n",
    "    iteracoes = int(1000)\n",
    "    \n",
    "    agente = Agente(N, ambiente, iteracoes, taxa_aprendizado, desconto, recompensa, epsilon)\n",
    "    agente.explorar_ambiente()\n",
    "    agente.gerar_imagem()\n",
    "    agente.gerar_gif()"
   ]
  },
  {
   "cell_type": "code",
   "execution_count": null,
   "id": "e461fa01",
   "metadata": {},
   "outputs": [],
   "source": []
  }
 ],
 "metadata": {
  "kernelspec": {
   "display_name": "Python 3 (ipykernel)",
   "language": "python",
   "name": "python3"
  },
  "language_info": {
   "codemirror_mode": {
    "name": "ipython",
    "version": 3
   },
   "file_extension": ".py",
   "mimetype": "text/x-python",
   "name": "python",
   "nbconvert_exporter": "python",
   "pygments_lexer": "ipython3",
   "version": "3.10.12"
  }
 },
 "nbformat": 4,
 "nbformat_minor": 5
}
